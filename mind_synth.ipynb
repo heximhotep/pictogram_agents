{
 "cells": [
  {
   "cell_type": "code",
   "execution_count": 1,
   "metadata": {
    "scrolled": true
   },
   "outputs": [
    {
     "name": "stderr",
     "output_type": "stream",
     "text": [
      "WARNING: Logging before flag parsing goes to stderr.\n",
      "I0422 18:54:17.222167  4856 registration.py:120] Making new env: 714782fe96d2e72208bf413765e91934-v0\n"
     ]
    },
    {
     "name": "stdout",
     "output_type": "stream",
     "text": [
      "{'1_z', '1_y', '7_x', '0_z', '2_z', '5_z', '4_z', '6_y', '3_z', '4_y', '9_z', '8_z', '0_y', '3_y', '7_y', '3_x', '9_x', '1_x', '6_x', '4_x', '0_x', '7_z', '5_y', '8_x', '5_x', '6_z', '2_y', '9_y', '2_x', '8_y'}\n"
     ]
    }
   ],
   "source": [
    "import gym\n",
    "import dm_control2gym\n",
    "\n",
    "# make the dm_control environment\n",
    "env = dm_control2gym.make(domain_name=\"findtarget\", task_name=\"walk\")\n",
    "\n",
    "physics = env.dmcenv.physics"
   ]
  },
  {
   "cell_type": "code",
   "execution_count": 4,
   "metadata": {},
   "outputs": [
    {
     "name": "stdout",
     "output_type": "stream",
     "text": [
      "[ 4.71402700e-01  6.51568793e-01 -2.82285540e-02  2.41995983e-01\n",
      "  9.07406877e-01  1.07592295e+00  3.98238312e-01 -2.03520320e-01\n",
      "  8.02868570e-01  7.32557525e-01 -1.61770579e-01  1.84243415e-01\n",
      " -1.56775654e-01  5.17420951e-01 -5.26968692e-01  8.07028616e-01\n",
      " -6.18589959e-01  1.69679170e-01 -3.80409173e-01  1.19466434e+00\n",
      "  5.36501020e-01 -2.68443641e-02  3.62451446e-01 -1.18829964e+00\n",
      "  1.46855232e-01  4.83396348e-01 -1.02765585e+00 -6.10075686e-01\n",
      " -1.49491784e-01 -2.03223860e-01 -5.56517044e-01 -1.02784394e+00\n",
      "  1.80973796e-03 -5.31408998e-01  2.31367504e-01  8.14907084e-01\n",
      "  6.54641341e-02 -6.94441672e-02 -5.12203598e-02  1.12727474e+00\n",
      " -3.48454856e+00  4.13423993e-02 -4.12952172e+00  1.48968888e+00\n",
      "  1.42340045e+00  2.52529234e-01  1.11738511e+00 -3.58466760e-01\n",
      " -1.94356094e+00 -3.96599914e+00 -1.80870320e+00  2.87874902e+00\n",
      " -1.72340077e-01 -2.87377429e+00 -6.25541250e-01 -1.61545033e-01\n",
      "  1.04951134e+00  5.25651542e+00  8.56048237e-01  2.18997085e+00\n",
      "  1.54051052e-01 -7.70669698e-01 -1.33673075e+00  3.14045530e-02\n",
      "  5.15970052e+00  4.45433764e+00 -8.30293276e-01  1.87544334e+00\n",
      " -6.49327499e-01 -2.16590710e+00  1.41298524e+00  3.63784278e+00\n",
      " -1.03379953e-02 -1.78333947e-01  9.15101055e-02  1.44632355e-02\n",
      " -2.03386479e-01  6.44857016e-02 -2.78754841e-01 -2.78124381e-01\n",
      " -1.19867959e-01 -2.38159403e-01  6.86368853e-02 -1.77340522e-01\n",
      " -2.88913748e-03 -5.21290520e-02  1.49346082e-01]\n"
     ]
    }
   ],
   "source": [
    "# use same syntax as in gym\n",
    "for t in range(1000):\n",
    "    observation, reward, done, info = env.step(env.action_space.sample()) # take a random action\n",
    "    if t == 0:\n",
    "        print(observation)\n",
    "    env.render()\n"
   ]
  },
  {
   "cell_type": "code",
   "execution_count": 8,
   "metadata": {},
   "outputs": [
    {
     "data": {
      "text/plain": [
       "BoundedArraySpec(shape=(30,), dtype=dtype('float32'), name=None, minimum=-1.0, maximum=1.0)"
      ]
     },
     "execution_count": 8,
     "metadata": {},
     "output_type": "execute_result"
    }
   ],
   "source": [
    "env.dmcenv.action_spec()"
   ]
  },
  {
   "cell_type": "code",
   "execution_count": 3,
   "metadata": {},
   "outputs": [
    {
     "data": {
      "text/plain": [
       "{'_closed': False,\n",
       " '_env_closer_id': 0,\n",
       " '_spec': EnvSpec(714782fe96d2e72208bf413765e91934-v0),\n",
       " 'action_space': Box(30,),\n",
       " 'dmcenv': <dm_control.rl.control.Environment at 0x19d270ebfd0>,\n",
       " 'np_random': <mtrand.RandomState at 0x19d270ecf78>,\n",
       " 'observation_space': Box(87,),\n",
       " 'pixels': array([[[ 35,  52,  70],\n",
       "         [ 35,  52,  70],\n",
       "         [ 35,  52,  70],\n",
       "         ...,\n",
       "         [ 35,  52,  70],\n",
       "         [ 35,  52,  70],\n",
       "         [ 35,  52,  70]],\n",
       " \n",
       "        [[ 35,  52,  70],\n",
       "         [ 35,  52,  70],\n",
       "         [ 35,  52,  70],\n",
       "         ...,\n",
       "         [ 35,  52,  70],\n",
       "         [ 40,  57,  74],\n",
       "         [ 58,  74,  90]],\n",
       " \n",
       "        [[ 35,  52,  70],\n",
       "         [ 35,  52,  70],\n",
       "         [ 35,  52,  70],\n",
       "         ...,\n",
       "         [ 35,  52,  70],\n",
       "         [ 57,  72,  88],\n",
       "         [ 80,  94, 108]],\n",
       " \n",
       "        ...,\n",
       " \n",
       "        [[ 13,  19,  26],\n",
       "         [ 13,  19,  26],\n",
       "         [ 13,  19,  26],\n",
       "         ...,\n",
       "         [ 13,  19,  26],\n",
       "         [ 13,  19,  26],\n",
       "         [ 13,  19,  26]],\n",
       " \n",
       "        [[ 13,  19,  26],\n",
       "         [ 13,  19,  26],\n",
       "         [ 13,  19,  26],\n",
       "         ...,\n",
       "         [ 13,  19,  26],\n",
       "         [ 13,  19,  26],\n",
       "         [ 13,  19,  26]],\n",
       " \n",
       "        [[ 13,  19,  26],\n",
       "         [ 13,  19,  26],\n",
       "         [ 13,  19,  26],\n",
       "         ...,\n",
       "         [ 13,  19,  26],\n",
       "         [ 13,  19,  26],\n",
       "         [ 13,  19,  26]]], dtype=uint8),\n",
       " 'render_mode_list': {'human': {'render_kwargs': {'camera_id': -1,\n",
       "    'depth': False,\n",
       "    'height': 240,\n",
       "    'overlays': (),\n",
       "    'scene_option': None,\n",
       "    'width': 320},\n",
       "   'return_pixel': False,\n",
       "   'show': True},\n",
       "  'human_rgb_array': {'render_kwargs': {'camera_id': -1,\n",
       "    'depth': False,\n",
       "    'height': 240,\n",
       "    'overlays': (),\n",
       "    'scene_option': None,\n",
       "    'width': 320},\n",
       "   'return_pixel': True,\n",
       "   'show': True},\n",
       "  'rgb_array': {'render_kwargs': {'camera_id': -1,\n",
       "    'depth': False,\n",
       "    'height': 240,\n",
       "    'overlays': (),\n",
       "    'scene_option': None,\n",
       "    'width': 320},\n",
       "   'return_pixel': True,\n",
       "   'show': False}},\n",
       " 'timestep': TimeStep(step_type=<StepType.MID: 1>, reward=0.09647270968884525, discount=1.0, observation=OrderedDict([('joint_angles', array([ 0.57063708,  0.56322409, -0.0738528 ,  0.29293223,  0.89331733,\n",
       "        1.06157802,  0.44736435, -0.08448991,  0.8124249 ,  0.68749692,\n",
       "       -0.15398533,  0.20262134, -0.14325939,  0.49971327, -0.53603492,\n",
       "        0.5870881 , -0.67675395,  0.04903577, -0.42681736,  1.16074061,\n",
       "        0.61388336,  0.05008384,  0.12791486, -1.30076368,  0.16656193,\n",
       "        0.42218661, -0.99655529, -0.5324119 , -0.20899858, -0.29911343])), ('target_offset', array([-0.50365883, -1.05168953, -0.10747859])), ('vertical_orient', array([-0.61577178,  0.15867628,  0.77178168])), ('velocity', array([-0.12328711, -0.07146196,  0.07967067,  1.94197237, -0.73083033,\n",
       "        2.66412806, -0.18693418,  3.15696893,  0.56415168, -3.63153492,\n",
       "       -0.6367064 ,  2.60521606, -0.65693418, -0.77119705,  2.20978247,\n",
       "       -1.63816666, -0.3357224 ,  3.33658818,  0.15757363,  1.28186018,\n",
       "       -1.1935482 ,  5.87621443,  1.88407034,  4.40359656,  3.28555179,\n",
       "        2.92783036, -2.59014941, -5.41218087,  6.58992966, -0.16898293,\n",
       "       -0.40377618,  0.97533021, -0.30244404, -1.96924784,  1.32559278,\n",
       "       -0.09393577])), ('limb_offsets', array([-0.01147532, -0.18223305,  0.08544372,  0.01554561, -0.20402344,\n",
       "        0.06052095, -0.25132743, -0.28500958, -0.15872121, -0.22764217,\n",
       "        0.06473537, -0.19665169, -0.00418887, -0.06168991,  0.14496562]))])),\n",
       " 'viewer': {'human': None, 'human_rgb_array': None, 'rgb_array': None}}"
      ]
     },
     "execution_count": 3,
     "metadata": {},
     "output_type": "execute_result"
    }
   ],
   "source": [
    "vars(env)"
   ]
  }
 ],
 "metadata": {
  "kernelspec": {
   "display_name": "Python 3",
   "language": "python",
   "name": "python3"
  },
  "language_info": {
   "codemirror_mode": {
    "name": "ipython",
    "version": 3
   },
   "file_extension": ".py",
   "mimetype": "text/x-python",
   "name": "python",
   "nbconvert_exporter": "python",
   "pygments_lexer": "ipython3",
   "version": "3.6.4"
  }
 },
 "nbformat": 4,
 "nbformat_minor": 2
}
