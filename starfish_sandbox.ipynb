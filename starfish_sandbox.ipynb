{
 "cells": [
  {
   "cell_type": "code",
   "execution_count": 1,
   "metadata": {},
   "outputs": [],
   "source": [
    "%load_ext autoreload\n",
    "%autoreload 2\n",
    "\n",
    "import os\n",
    "if not 'DISPLAY' in os.environ:\n",
    "    os.environ['DISPLAY'] = ':1'\n",
    "\n",
    "import numpy as np\n",
    "from skimage import io\n",
    "from dm_control.suite import common\n",
    "\n",
    "from genome_synth import Genesis\n",
    "from findtarget import FindTarget, Physics\n",
    "from dm_control import mujoco\n",
    "from dm_control.rl import control\n",
    "from dm_control.rl.control import PhysicsError\n",
    "\n",
    "from mjremote import mjremote\n",
    "import time\n",
    "\n",
    "from matplotlib import pyplot as plt\n",
    "%matplotlib inline"
   ]
  },
  {
   "cell_type": "code",
   "execution_count": 2,
   "metadata": {},
   "outputs": [],
   "source": [
    "from xml.etree import ElementTree as ET\n",
    "\n",
    "class DummyGen(Genesis):\n",
    "    def override_from_xml(self, xml_str):\n",
    "        self.joints = set()\n",
    "        spec = ET.fromstring(xml_str)\n",
    "        for motor in spec.iter('motor'):\n",
    "            if 'joint' in motor.attrib:\n",
    "                self.joints.add(motor.attrib['joint'])\n"
   ]
  },
  {
   "cell_type": "code",
   "execution_count": null,
   "metadata": {},
   "outputs": [],
   "source": []
  },
  {
   "cell_type": "code",
   "execution_count": 3,
   "metadata": {},
   "outputs": [
    {
     "name": "stdout",
     "output_type": "stream",
     "text": [
      "Connect: (31, 0, 2, 640, 480)\n",
      "BoundedArraySpec(shape=(24,), dtype=dtype('float64'), name=None, minimum=[-1. -1. -1. -1. -1. -1. -1. -1. -1. -1. -1. -1. -1. -1. -1. -1. -1. -1.\n",
      " -1. -1. -1. -1. -1. -1.], maximum=[1. 1. 1. 1. 1. 1. 1. 1. 1. 1. 1. 1. 1. 1. 1. 1. 1. 1. 1. 1. 1. 1. 1. 1.]) OrderedDict([('joint_angles', ArraySpec(shape=(24,), dtype=dtype('float64'), name=None)), ('target_offset', ArraySpec(shape=(3,), dtype=dtype('float64'), name=None)), ('vertical_orient', ArraySpec(shape=(3,), dtype=dtype('float64'), name=None)), ('velocity', ArraySpec(shape=(30,), dtype=dtype('float64'), name=None))])\n",
      "1\n",
      "24\n",
      "done\n"
     ]
    }
   ],
   "source": [
    "from deap import base, creator, gp, tools\n",
    "\n",
    "gen = DummyGen()\n",
    "\n",
    "m = mjremote()\n",
    "print('Connect:', m.connect())\n",
    "\n",
    "xml_name = './starfish.xml'\n",
    "\n",
    "if not os.path.exists('./tmp'):\n",
    "    os.mkdir('./tmp')\n",
    "\n",
    "with open(xml_name) as starfishf:\n",
    "    starfish_str = starfishf.read()\n",
    "    \n",
    "def capture():\n",
    "    imnames = set()\n",
    "    picidx = 0\n",
    "    _DEFAULT_TIME_LIMIT = 10\n",
    "    _CONTROL_TIMESTEP = .04\n",
    "    display_stride = 1 / .04 // 24\n",
    "    gen.override_from_xml(starfish_str)\n",
    "    genesis_physics = Physics.from_xml_string(common.read_model(os.path.join(os.getcwd(), xml_name)), \n",
    "                                              common.ASSETS)\n",
    "    genesis_physics.set_genesis(gen)\n",
    "    genesis_task = FindTarget()\n",
    "    genesis_env = control.Environment(genesis_physics, \n",
    "                                     genesis_task,\n",
    "                                     control_timestep=_CONTROL_TIMESTEP,\n",
    "                                     time_limit=_DEFAULT_TIME_LIMIT)\n",
    "    action_spec = genesis_env.action_spec()\n",
    "    observation_spec = genesis_env.observation_spec()\n",
    "    print(action_spec, observation_spec)\n",
    "    time_step = genesis_env.reset()\n",
    "    curtime = 0.0\n",
    "    #top_view = genesis_env.physics.render(480, 480, camera_id='tracking_top')\n",
    "    #side_view = genesis_env.physics.render(480, 480, camera_id='arm_eye')\n",
    "    #plt.imshow(np.concatenate((top_view, side_view), axis=1))\n",
    "    #plt.pause(0.5)\n",
    "    #plt.show()\n",
    "    did_except = False\n",
    "    \n",
    "    b = bytearray(3*m.width*m.height)\n",
    "    \n",
    "    while(not time_step.last()):\n",
    "        try:\n",
    "            action = np.sin(np.linspace(curtime, curtime + 3.14159, num=action_spec.shape[0]))\n",
    "            time_step = genesis_env.step(action)\n",
    "            m.setqpos(genesis_env.physics.data.qpos[:])\n",
    "            m.getimage(b)\n",
    "            saveimg = np.frombuffer(b, dtype=np.uint8).reshape((m.height, m.width, 3))\n",
    "            savename = \"./tmp/starfish_{0:04}.jpg\".format(picidx)\n",
    "            picidx += 1\n",
    "            imnames.add(savename)\n",
    "            curtime += _CONTROL_TIMESTEP\n",
    "            #top_view = genesis_env.physics.render(480, 480, camera_id='tracking_top')\n",
    "            #side_view = genesis_env.physics.render(480, 480, camera_id='arm_eye')\n",
    "            #plt.imshow(np.concatenate((top_view, side_view), axis=1))\n",
    "            #plt.pause(0.5)\n",
    "            #io.imsave(savename, np.concatenate((top_view, side_view), axis=1))\n",
    "            io.imsave(savename, saveimg)\n",
    "        except PhysicsError:\n",
    "            print('except')\n",
    "            did_except = True\n",
    "            break\n",
    "    if not did_except and os.path.isfile('starfish.mp4'):\n",
    "        os.remove('starfish.mp4')\n",
    "    if not did_except:\n",
    "        !!ffmpeg -f image2 -pattern_type sequence -i \"./tmp/starfish_%4d.jpg\" -qscale:v 0 starfish.mp4\n",
    "    for name in imnames:\n",
    "        os.remove(name)\n",
    "    print(\"done\")\n",
    "capture()"
   ]
  },
  {
   "cell_type": "code",
   "execution_count": 4,
   "metadata": {},
   "outputs": [
    {
     "ename": "NameError",
     "evalue": "name 'pos' is not defined",
     "output_type": "error",
     "traceback": [
      "\u001b[1;31m---------------------------------------------------------------------------\u001b[0m",
      "\u001b[1;31mNameError\u001b[0m                                 Traceback (most recent call last)",
      "\u001b[1;32m<ipython-input-4-7404c502bfd9>\u001b[0m in \u001b[0;36m<module>\u001b[1;34m()\u001b[0m\n\u001b[0;32m     10\u001b[0m \u001b[1;33m\u001b[0m\u001b[0m\n\u001b[0;32m     11\u001b[0m starfish_dict = {\n\u001b[1;32m---> 12\u001b[1;33m     \u001b[1;34m'body'\u001b[0m\u001b[1;33m:\u001b[0m \u001b[1;33m{\u001b[0m\u001b[1;34m'name'\u001b[0m\u001b[1;33m:\u001b[0m \u001b[1;34m'root'\u001b[0m\u001b[1;33m,\u001b[0m \u001b[1;34m'childclass'\u001b[0m\u001b[1;33m:\u001b[0m \u001b[1;34m'starfish'\u001b[0m\u001b[1;33m,\u001b[0m \u001b[0mpos\u001b[0m\u001b[1;33m:\u001b[0m \u001b[1;34m'0 0 1'\u001b[0m\u001b[1;33m}\u001b[0m\u001b[1;33m,\u001b[0m\u001b[1;33m\u001b[0m\u001b[0m\n\u001b[0m\u001b[0;32m     13\u001b[0m \u001b[1;33m\u001b[0m\u001b[0m\n\u001b[0;32m     14\u001b[0m }\n",
      "\u001b[1;31mNameError\u001b[0m: name 'pos' is not defined"
     ]
    }
   ],
   "source": [
    "starfish_arm = lambda path_so_far, depth: {\n",
    "    'body': {\n",
    "        'name': path_so_far + '.' + 'arm_segment' ,\n",
    "        'pos':  '0.1 0.0 0.0',\n",
    "        'children': [\n",
    "            {'joint': {'axis': '1 0 0'}}\n",
    "        ]\n",
    "    }\n",
    "} if depth >= 0 else None\n",
    "\n",
    "starfish_dict = {\n",
    "    'body': {'name': 'root', 'childclass': 'starfish', pos: '0 0 1'},\n",
    "    \n",
    "}\n",
    "\n",
    "def dict_2_creature(num_arms, template_xml='starfish.xml'):\n",
    "    joints = set()\n",
    "    actuator = set()\n",
    "    contact_excludes = set()\n",
    "    \n",
    "    "
   ]
  },
  {
   "cell_type": "code",
   "execution_count": null,
   "metadata": {},
   "outputs": [],
   "source": []
  },
  {
   "cell_type": "code",
   "execution_count": null,
   "metadata": {},
   "outputs": [],
   "source": []
  },
  {
   "cell_type": "code",
   "execution_count": null,
   "metadata": {},
   "outputs": [],
   "source": []
  }
 ],
 "metadata": {
  "kernelspec": {
   "display_name": "Python 3",
   "language": "python",
   "name": "python3"
  },
  "language_info": {
   "codemirror_mode": {
    "name": "ipython",
    "version": 3
   },
   "file_extension": ".py",
   "mimetype": "text/x-python",
   "name": "python",
   "nbconvert_exporter": "python",
   "pygments_lexer": "ipython3",
   "version": "3.6.4"
  }
 },
 "nbformat": 4,
 "nbformat_minor": 2
}
