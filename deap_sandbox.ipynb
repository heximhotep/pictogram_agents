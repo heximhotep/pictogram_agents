{
 "cells": [
  {
   "cell_type": "code",
   "execution_count": 6,
   "metadata": {},
   "outputs": [],
   "source": [
    "import os\n",
    "import random\n",
    "\n",
    "import numpy as np\n",
    "import quaternion\n",
    "\n",
    "import xml.etree.cElementTree as ET\n",
    "import xml.dom.minidom as minidom\n",
    "\n",
    "from deap import base\n",
    "from deap import creator\n",
    "from deap import gp\n",
    "from deap import tools\n",
    "from deap import algorithms\n",
    "\n",
    "from dm_control import mujoco\n",
    "from dm_control.suite import base as control_base\n",
    "from dm_control.suite import common\n",
    "from dm_control.utils import containers\n",
    "from dm_control.utils import rewards\n",
    "from dm_control.rl import control\n",
    "from dm_control.rl.control import PhysicsError\n",
    "\n",
    "import matplotlib.pyplot as plt\n",
    "from IPython.display import clear_output\n",
    "import collections\n",
    "from skimage import io, transform\n",
    "\n",
    "from deap import base, creator, gp, tools\n",
    "import operator\n",
    "from genome_synth import Genesis, prettify, Physics, Avoid"
   ]
  },
  {
   "cell_type": "code",
   "execution_count": 3,
   "metadata": {},
   "outputs": [
    {
     "name": "stdout",
     "output_type": "stream",
     "text": [
      "{'name': '0', 'offset': array([0., 0., 0.]), 'rotation': array([14.40454417, 30.18999101, 32.67589723]), 'dimensions': array([0.02199551, 0.01615993, 0.0447527 ]), 'joint_range': 44.31364630058737, 'children': [], 'priority': 0.8599846772849584}\n"
     ]
    }
   ],
   "source": [
    "gen = Genesis()\n",
    "print(gen.mk_leaf())\n",
    "pset = gp.PrimitiveSet(\"MAIN\", 0)\n",
    "pset.addPrimitive(gen.combine_trees, 2)\n",
    "#pset.addEphemeralConstant(\"mk_leaf\", gen.mk_leaf)\n",
    "pset.addTerminal(gen.mk_leaf)\n",
    "\n",
    "creator.create(\"FitnessMax\", base.Fitness, weights=(1.0,))\n",
    "creator.create(\"Individual\", gp.PrimitiveTree, fitness=creator.FitnessMax)\n",
    "\n",
    "toolbox = base.Toolbox()\n",
    "toolbox.register(\"expr_init\", gp.genFull, pset=pset, min_=1, max_=3)\n",
    "\n",
    "toolbox.register(\"individual\", tools.initIterate, creator.Individual, toolbox.expr_init)\n",
    "toolbox.register(\"population\", tools.initRepeat, list, toolbox.individual)\n",
    "\n",
    "def get_model_and_assets():\n",
    "    curpath = os.getcwd()\n",
    "    return common.read_model(curpath + '/dust.xml'), common.ASSETS\n",
    "\n",
    "def evalGen(individual):\n",
    "    creation = gp.compile(individual, pset)\n",
    "    tree = ET.fromstring(prettify(gen.mk_model(creation)))\n",
    "    tree = ET.ElementTree(tree)\n",
    "    tree.write('dust.xml')\n",
    "    _DEFAULT_TIME_LIMIT = 4\n",
    "    _CONTROL_TIMESTEP = .04\n",
    "    display_stride = 1 / .04 // 24\n",
    "    picidx = 0\n",
    "    imnames = set()\n",
    "    \n",
    "    genesis_physics = Physics.from_xml_string(*get_model_and_assets())\n",
    "    genesis_physics.set_gen(thisgen)\n",
    "    genesis_task = Avoid()\n",
    "    gensis_env = control.Environment(genesis_physics, \n",
    "                                     genesis_task,\n",
    "                                     control_timestep=_CONTROL_TIMESTEOP,\n",
    "                                     time_limit=_DEFAULT_TIME_LIMIT)\n",
    "    action_spec = genesis_env.action_spec()\n",
    "    observation_spec = genesis_env.observation_spec()\n",
    "    \n",
    "    idx = 0\n",
    "    \n",
    "    maxreward = 0\n",
    "    \n",
    "    time_step = genesis_env.reset()\n",
    "    curtime = 0\n",
    "    while(not time_step.last()):\n",
    "        try:\n",
    "            action = np.ones(action_spec.shape[0]) * np.sin(curtime)\n",
    "            time_step = genesis_env.step(action)\n",
    "            reward = time_step.reward\n",
    "            if(maxreward < reward):\n",
    "                maxreward = reward\n",
    "            curtime += _CONTROL_TIMESTEP\n",
    "            #if idx % display_stride == 0:\n",
    "                #savename = \"seq_{0:04}.jpg\".format(picidx)\n",
    "                #imnames.add(savename)\n",
    "                #picidx += 1\n",
    "                #io.imsave(savename, genesis_env.physics.render(480, 640))\n",
    "            idx += 1\n",
    "        except PhysicsError:\n",
    "            print('except')\n",
    "            maxreward = 0\n",
    "            break\n",
    "    return maxreward\n",
    "\n",
    "toolbox.register(\"evaluate\", evalGen)\n",
    "toolbox.register(\"select\", tools.selTournament, tournsize=7)\n",
    "toolbox.register(\"mate\", gp.cxOnePoint)\n",
    "toolbox.register(\"expr_mut\", gp.genFull, min_=0, max_=3)\n",
    "toolbox.register(\"mutate\", gp.mutUniform, expr=toolbox.expr_mut, pset=pset)\n",
    "\n",
    "\n"
   ]
  },
  {
   "cell_type": "code",
   "execution_count": null,
   "metadata": {},
   "outputs": [
    {
     "name": "stderr",
     "output_type": "stream",
     "text": [
      "WARNING: Logging before flag parsing goes to stderr.\n",
      "F0416 14:27:33.166397 12260 core.py:92] Expired activation key\n"
     ]
    }
   ],
   "source": [
    "def main():\n",
    "    pop = toolbox.population(n=25)\n",
    "    hof = tools.HallOfFame(1)\n",
    "    stats = tools.Statistics(lambda ind: ind.fitness.values)\n",
    "    stats.register(\"avg\", np.mean)\n",
    "    stats.register(\"std\", np.std)\n",
    "    stats.register(\"min\", np.min)\n",
    "    stats.register(\"max\", np.max)\n",
    "    \n",
    "    algorithms.eaSimple(pop, toolbox, 0.5, 0.2, 40, stats, halloffame=hof)\n",
    "    return pop, hof, stats\n",
    "\n",
    "if __name__ == \"__main__\":\n",
    "    main()"
   ]
  }
 ],
 "metadata": {
  "kernelspec": {
   "display_name": "Python 3",
   "language": "python",
   "name": "python3"
  },
  "language_info": {
   "codemirror_mode": {
    "name": "ipython",
    "version": 3
   },
   "file_extension": ".py",
   "mimetype": "text/x-python",
   "name": "python",
   "nbconvert_exporter": "python",
   "pygments_lexer": "ipython3",
   "version": "3.6.4"
  }
 },
 "nbformat": 4,
 "nbformat_minor": 2
}
